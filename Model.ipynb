{
 "cells": [
  {
   "cell_type": "code",
   "execution_count": 1,
   "metadata": {},
   "outputs": [],
   "source": [
    "import torch\n",
    "from torch import nn\n",
    "from dataloader import dataset, collate_fn\n",
    "import pickle\n",
    "from torch.utils import data\n",
    "from torch.autograd import Variable\n",
    "from torchnlp.nn import Attention\n",
    "from sklearn.model_selection import train_test_split\n",
    "from torch.optim import Adam\n",
    "import numpy as np\n",
    "from tqdm.notebook import tqdm\n",
    "from sklearn.metrics import classification_report"
   ]
  },
  {
   "cell_type": "markdown",
   "metadata": {},
   "source": [
    "## Set Device for Training"
   ]
  },
  {
   "cell_type": "code",
   "execution_count": 3,
   "metadata": {},
   "outputs": [],
   "source": [
    "if torch.cuda.is_available():\n",
    "    device = torch.device('cuda:0')\n",
    "else:\n",
    "    device = torch.device('cpu')"
   ]
  },
  {
   "cell_type": "markdown",
   "metadata": {},
   "source": [
    "## Load Data"
   ]
  },
  {
   "cell_type": "code",
   "execution_count": 4,
   "metadata": {},
   "outputs": [],
   "source": [
    "data_ = []\n",
    "file_path = './FinalDataset.csv'\n",
    "with open(file_path, 'r') as f:\n",
    "    for i in f:\n",
    "        j = i.strip('\\n').split('\\t')\n",
    "        data_.append(j[-1].lower())\n",
    "\n",
    "tweet_pairs, distance_vectors = [], []\n",
    "\n",
    "with open('./tweet_pairs.pkl', 'rb') as f:\n",
    "    tweet_pairs = pickle.load(f)\n",
    "\n",
    "with open('./distance_vectors.pkl', 'rb') as f:\n",
    "    distance_vectors = pickle.load(f)\n",
    "\n",
    "with open(\"./trigger_word_pos.pkl\", 'rb') as f:\n",
    "    trigger_word_pos = pickle.load(f)\n",
    "    \n",
    "indices = list(range(len(tweet_pairs)))"
   ]
  },
  {
   "cell_type": "markdown",
   "metadata": {},
   "source": [
    "## Train Test and Validation Split"
   ]
  },
  {
   "cell_type": "code",
   "execution_count": 5,
   "metadata": {},
   "outputs": [],
   "source": [
    "X_train, X_test, y_train, y_test = train_test_split(indices, indices, test_size=0.2, random_state=42)"
   ]
  },
  {
   "cell_type": "code",
   "execution_count": 6,
   "metadata": {},
   "outputs": [],
   "source": [
    "X_train, X_val, y_train, y_val = train_test_split(X_train, y_train, test_size=0.2, random_state=42)"
   ]
  },
  {
   "cell_type": "code",
   "execution_count": 7,
   "metadata": {},
   "outputs": [],
   "source": [
    "X_train = [tweet_pairs[i] for i in X_train]\n",
    "X_val = [tweet_pairs[i] for i in X_val]\n",
    "X_test = [tweet_pairs[i] for i in X_test]"
   ]
  },
  {
   "cell_type": "code",
   "execution_count": 8,
   "metadata": {},
   "outputs": [],
   "source": [
    "tweet_pair_data_train = [[data_[i[0]], data_[i[1]]] for i in X_train]\n",
    "distance_vector_data_train = [[distance_vectors[i[0]],distance_vectors[i[1]]] for i in X_train]\n",
    "trigger_word_pos_data_train = [[trigger_word_pos[i[0]], trigger_word_pos[i[1]]] for i in X_train]\n",
    "labels_data_train = [i[2] for i in X_train]\n",
    "common_words_data_train = [i[3] for i in X_train]\n",
    "day_difference_data_train = [i[4] for i in X_train]\n"
   ]
  },
  {
   "cell_type": "code",
   "execution_count": 9,
   "metadata": {},
   "outputs": [],
   "source": [
    "tweet_pair_data_val = [[data_[i[0]], data_[i[1]]] for i in X_val]\n",
    "distance_vector_data_val = [[distance_vectors[i[0]],distance_vectors[i[1]]] for i in X_val]\n",
    "trigger_word_pos_data_val = [[trigger_word_pos[i[0]], trigger_word_pos[i[1]]] for i in X_val]\n",
    "labels_data_val = [i[2] for i in X_val]\n",
    "common_words_data_val = [i[3] for i in X_val]\n",
    "day_difference_data_val = [i[4] for i in X_val]"
   ]
  },
  {
   "cell_type": "code",
   "execution_count": 10,
   "metadata": {},
   "outputs": [],
   "source": [
    "tweet_pair_data_test = [[data_[i[0]], data_[i[1]]] for i in X_test]\n",
    "distance_vector_data_test = [[distance_vectors[i[0]],distance_vectors[i[1]]] for i in X_test]\n",
    "trigger_word_pos_data_test = [[trigger_word_pos[i[0]], trigger_word_pos[i[1]]] for i in X_test]\n",
    "labels_data_test = [i[2] for i in X_test]\n",
    "common_words_data_test = [i[3] for i in X_test]\n",
    "day_difference_data_test = [i[4] for i in X_test]"
   ]
  },
  {
   "cell_type": "markdown",
   "metadata": {},
   "source": [
    "## Set up Dataloader for train, test and validation splits"
   ]
  },
  {
   "cell_type": "code",
   "execution_count": 11,
   "metadata": {},
   "outputs": [],
   "source": [
    "dataset_ = dataset(\n",
    "    tweet_pair_data_train, distance_vector_data_train, \n",
    "    trigger_word_pos_data_train, common_words_data_train,\n",
    "    day_difference_data_train, labels_data_train\n",
    ")\n",
    "loader_train = data.DataLoader(dataset_, batch_size=128, collate_fn=collate_fn, shuffle=True)"
   ]
  },
  {
   "cell_type": "code",
   "execution_count": 12,
   "metadata": {},
   "outputs": [],
   "source": [
    "dataset_ = dataset(\n",
    "    tweet_pair_data_val, distance_vector_data_val, \n",
    "    trigger_word_pos_data_val, common_words_data_val,\n",
    "    day_difference_data_val, labels_data_val\n",
    ")\n",
    "loader_val = data.DataLoader(dataset_, batch_size=128, collate_fn=collate_fn, shuffle=True)"
   ]
  },
  {
   "cell_type": "code",
   "execution_count": 13,
   "metadata": {},
   "outputs": [],
   "source": [
    "dataset_ = dataset(\n",
    "    tweet_pair_data_test, distance_vector_data_test, \n",
    "    trigger_word_pos_data_test, common_words_data_test,\n",
    "    day_difference_data_test, labels_data_test\n",
    ")\n",
    "loader_test = data.DataLoader(dataset_, batch_size=128, collate_fn=collate_fn, shuffle=True)"
   ]
  },
  {
   "cell_type": "code",
   "execution_count": 14,
   "metadata": {},
   "outputs": [],
   "source": [
    "max_dist = -1\n",
    "\n",
    "for i in distance_vectors:\n",
    "    max_dist = max(max_dist,max(i))\n",
    "\n",
    "max_dist += 1"
   ]
  },
  {
   "cell_type": "markdown",
   "metadata": {},
   "source": [
    "## Base Model class for each tweet"
   ]
  },
  {
   "cell_type": "code",
   "execution_count": 15,
   "metadata": {},
   "outputs": [],
   "source": [
    "class base_model(nn.Module):\n",
    "    def __init__(self, max_dist, hidden_size=64):\n",
    "        super().__init__()\n",
    "        self.hidden_size = hidden_size\n",
    "        with open(\"./vocab.pkl\", \"rb\") as f:\n",
    "            self.vocab = pickle.load(f)\n",
    "        pre_trained_emb = torch.Tensor(self.vocab.vectors)\n",
    "        self.word_embedding = nn.Embedding.from_pretrained(pre_trained_emb)\n",
    "        \n",
    "        self.distance_embedding = nn.Embedding(max_dist, 14)\n",
    "        \n",
    "        self.lstm = nn.LSTM(114, hidden_size, batch_first=True, bidirectional=True)\n",
    "        \n",
    "        self.selective = nn.Linear(2 * hidden_size, 1)\n",
    "        \n",
    "        self.attention = Attention(2 * hidden_size)\n",
    "    \n",
    "    def init_hidden(self, batch_size):\n",
    "        h, c = (Variable(torch.zeros(1 * 2, batch_size, self.hidden_size)).to(device),\n",
    "                Variable(torch.zeros(1 * 2, batch_size, self.hidden_size)).to(device))\n",
    "        return h, c\n",
    "    \n",
    "    def forward(self, tweet, dist, pos):\n",
    "        batch_size = tweet.shape[0]\n",
    "        seq_len = tweet.shape[1]\n",
    "        h_0, c_0 = self.init_hidden(batch_size)\n",
    "        \n",
    "        tweet_embedding = self.word_embedding(tweet.long())\n",
    "        dist_embedding = self.distance_embedding(dist.long())\n",
    "        \n",
    "        tweet = torch.cat([tweet_embedding, dist_embedding], dim=2)\n",
    "        output, (h_n, c_n) = self.lstm(tweet, (h_0, c_0))\n",
    "        output_ = output.view(batch_size, seq_len, 2, self.hidden_size)\n",
    "        \n",
    "        indices = torch.Tensor(list(range(batch_size))).long()\n",
    "        \n",
    "        ment_part1 = output_[indices, pos[:, 1].long(), 0, :]\n",
    "        ment_part2 = output_[indices, 0, 1, :]\n",
    "        \n",
    "        mention_feature = torch.cat([ment_part1, ment_part2], dim=1)\n",
    "        \n",
    "        Rc = output * mention_feature.view(batch_size, 1, -1)\n",
    "        \n",
    "        alpha = torch.tanh(self.selective(Rc))\n",
    "        \n",
    "        select = alpha * output\n",
    "        \n",
    "        t = self.attention(mention_feature.view(batch_size, 1, -1), select)\n",
    "        \n",
    "        Vem = torch.cat([mention_feature, t[0].view(batch_size, -1)], dim=1)\n",
    "        \n",
    "        return Vem"
   ]
  },
  {
   "cell_type": "markdown",
   "metadata": {},
   "source": [
    "## Class encapsulating model for each tweet and using output for final prediction"
   ]
  },
  {
   "cell_type": "code",
   "execution_count": 16,
   "metadata": {},
   "outputs": [],
   "source": [
    "class Model(nn.Module):\n",
    "    def __init__(self,max_dist, hidden_size=64):\n",
    "        super().__init__()\n",
    "        with open(\"./vocab.pkl\", \"rb\") as f:\n",
    "            self.vocab = pickle.load(f)\n",
    "        self.tweet1_model = base_model(max_dist, hidden_size)\n",
    "        self.tweet2_model = base_model(max_dist, hidden_size)\n",
    "        self.final = nn.Linear(8 * hidden_size + 2, 1)\n",
    "    \n",
    "    def forward(self, tweet1, tweet2, dist1, dist2, pos1, pos2, common_words, day_difference):\n",
    "        Vem1 = self.tweet1_model(tweet1, dist1, pos1)\n",
    "        Vem2 = self.tweet2_model(tweet2, dist2, pos2)\n",
    "        common_words = common_words.unsqueeze(1)\n",
    "        day_difference = day_difference.unsqueeze(1)\n",
    "        \n",
    "        final = torch.cat([Vem1, Vem2, common_words, day_difference], dim=1)\n",
    "        return self.final(final)        \n"
   ]
  },
  {
   "cell_type": "markdown",
   "metadata": {},
   "source": [
    "## Model and Optimizer Initalization"
   ]
  },
  {
   "cell_type": "code",
   "execution_count": 17,
   "metadata": {},
   "outputs": [],
   "source": [
    "model = Model(max_dist).to(device)\n",
    "optimizer = Adam(model.parameters())\n",
    "criterion = nn.BCEWithLogitsLoss()"
   ]
  },
  {
   "cell_type": "markdown",
   "metadata": {},
   "source": [
    "## Training and Validation Logic"
   ]
  },
  {
   "cell_type": "code",
   "execution_count": 18,
   "metadata": {},
   "outputs": [],
   "source": [
    "def train(model, optimizer, criterion, loader):\n",
    "    losses = []\n",
    "    model.train()\n",
    "    for tweet1, tweet2, dist1, dist2, pos1, pos2, common_words, day_difference, label in tqdm(loader):\n",
    "        optimizer.zero_grad()\n",
    "        \n",
    "        tweet1 = tweet1.to(device)\n",
    "        tweet2 = tweet2.to(device)\n",
    "        dist1 = dist1.to(device)\n",
    "        dist2 = dist2.to(device)\n",
    "        pos1 = pos1.to(device)\n",
    "        pos2 = pos2.to(device)\n",
    "        common_words = common_words.to(device)\n",
    "        day_difference = day_difference.to(device)\n",
    "        label = label.to(device)\n",
    "        \n",
    "        prediction = model(\n",
    "            tweet1, tweet2, \n",
    "            dist1, dist2, \n",
    "            pos1, pos2, \n",
    "            common_words, day_difference\n",
    "        )\n",
    "        \n",
    "        loss = criterion(prediction.squeeze(), label.squeeze())\n",
    "        \n",
    "        loss.backward()\n",
    "        \n",
    "        optimizer.step()\n",
    "        \n",
    "        losses.append(loss.item())\n",
    "    \n",
    "    return np.mean(losses)"
   ]
  },
  {
   "cell_type": "code",
   "execution_count": 19,
   "metadata": {},
   "outputs": [],
   "source": [
    "def validate(model, criterion, loader):\n",
    "    losses = []\n",
    "    all_predictions,all_labels = [],[]\n",
    "    model.eval()\n",
    "    with torch.no_grad():\n",
    "        for tweet1, tweet2, dist1, dist2, pos1, pos2, common_words, day_difference, label in tqdm(loader):\n",
    "            \n",
    "            tweet1 = tweet1.to(device)\n",
    "            tweet2 = tweet2.to(device)\n",
    "            dist1 = dist1.to(device)\n",
    "            dist2 = dist2.to(device)\n",
    "            pos1 = pos1.to(device)\n",
    "            pos2 = pos2.to(device)\n",
    "            common_words = common_words.to(device)\n",
    "            day_difference = day_difference.to(device)\n",
    "            label = label.to(device)\n",
    "            \n",
    "            prediction = model(\n",
    "                tweet1, tweet2, \n",
    "                dist1, dist2, \n",
    "                pos1, pos2, \n",
    "                common_words, day_difference\n",
    "            )\n",
    "            \n",
    "            loss = criterion(prediction.squeeze(), label.squeeze())\n",
    "            all_predictions.extend(prediction.squeeze().cpu().numpy().tolist())\n",
    "            all_labels.extend(label.squeeze().cpu().numpy().tolist())\n",
    "            losses.append(loss.item())\n",
    "    return np.mean(losses),classification_report(all_labels,all_predictions)"
   ]
  },
  {
   "cell_type": "code",
   "execution_count": 20,
   "metadata": {},
   "outputs": [],
   "source": [
    "NUM_EPOCHS=1"
   ]
  },
  {
   "cell_type": "code",
   "execution_count": 21,
   "metadata": {},
   "outputs": [
    {
     "data": {
      "application/vnd.jupyter.widget-view+json": {
       "model_id": "b7f36f4121814c5fb9d257faa2fee678",
       "version_major": 2,
       "version_minor": 0
      },
      "text/plain": [
       "HBox(children=(HTML(value=''), FloatProgress(value=0.0, max=5364.0), HTML(value='')))"
      ]
     },
     "metadata": {},
     "output_type": "display_data"
    },
    {
     "name": "stdout",
     "output_type": "stream",
     "text": [
      "\n"
     ]
    },
    {
     "data": {
      "application/vnd.jupyter.widget-view+json": {
       "model_id": "24d06d1e29a2444bb82949273209bffb",
       "version_major": 2,
       "version_minor": 0
      },
      "text/plain": [
       "HBox(children=(HTML(value=''), FloatProgress(value=0.0, max=1341.0), HTML(value='')))"
      ]
     },
     "metadata": {},
     "output_type": "display_data"
    },
    {
     "name": "stdout",
     "output_type": "stream",
     "text": [
      "\n"
     ]
    },
    {
     "ename": "ValueError",
     "evalue": "Classification metrics can't handle a mix of binary and continuous targets",
     "output_type": "error",
     "traceback": [
      "\u001b[0;31m---------------------------------------------------------------------------\u001b[0m",
      "\u001b[0;31mValueError\u001b[0m                                Traceback (most recent call last)",
      "\u001b[0;32m<ipython-input-21-f2c1bd080fba>\u001b[0m in \u001b[0;36m<module>\u001b[0;34m\u001b[0m\n\u001b[1;32m      1\u001b[0m \u001b[0;32mfor\u001b[0m \u001b[0mepoch\u001b[0m \u001b[0;32min\u001b[0m \u001b[0mrange\u001b[0m\u001b[0;34m(\u001b[0m\u001b[0mNUM_EPOCHS\u001b[0m\u001b[0;34m)\u001b[0m\u001b[0;34m:\u001b[0m\u001b[0;34m\u001b[0m\u001b[0;34m\u001b[0m\u001b[0m\n\u001b[1;32m      2\u001b[0m     \u001b[0mtraining_loss\u001b[0m \u001b[0;34m=\u001b[0m \u001b[0mtrain\u001b[0m\u001b[0;34m(\u001b[0m\u001b[0mmodel\u001b[0m\u001b[0;34m,\u001b[0m \u001b[0moptimizer\u001b[0m\u001b[0;34m,\u001b[0m \u001b[0mcriterion\u001b[0m\u001b[0;34m,\u001b[0m \u001b[0mloader_train\u001b[0m\u001b[0;34m)\u001b[0m\u001b[0;34m\u001b[0m\u001b[0;34m\u001b[0m\u001b[0m\n\u001b[0;32m----> 3\u001b[0;31m     \u001b[0mval_loss\u001b[0m\u001b[0;34m,\u001b[0m\u001b[0mval_report\u001b[0m \u001b[0;34m=\u001b[0m \u001b[0mvalidate\u001b[0m\u001b[0;34m(\u001b[0m\u001b[0mmodel\u001b[0m\u001b[0;34m,\u001b[0m \u001b[0mcriterion\u001b[0m\u001b[0;34m,\u001b[0m \u001b[0mloader_val\u001b[0m\u001b[0;34m)\u001b[0m\u001b[0;34m\u001b[0m\u001b[0;34m\u001b[0m\u001b[0m\n\u001b[0m\u001b[1;32m      4\u001b[0m \u001b[0;34m\u001b[0m\u001b[0m\n\u001b[1;32m      5\u001b[0m     \u001b[0mprint\u001b[0m\u001b[0;34m(\u001b[0m\u001b[0;34mf\"Epoch {epoch}/{NUM_EPOCHS} Training Loss : {training_loss} Validation Loss : {val_loss}\"\u001b[0m\u001b[0;34m)\u001b[0m\u001b[0;34m\u001b[0m\u001b[0;34m\u001b[0m\u001b[0m\n",
      "\u001b[0;32m<ipython-input-19-2f0d9f0603bd>\u001b[0m in \u001b[0;36mvalidate\u001b[0;34m(model, criterion, loader)\u001b[0m\n\u001b[1;32m     27\u001b[0m             \u001b[0mall_labels\u001b[0m\u001b[0;34m.\u001b[0m\u001b[0mextend\u001b[0m\u001b[0;34m(\u001b[0m\u001b[0mlabel\u001b[0m\u001b[0;34m.\u001b[0m\u001b[0msqueeze\u001b[0m\u001b[0;34m(\u001b[0m\u001b[0;34m)\u001b[0m\u001b[0;34m.\u001b[0m\u001b[0mcpu\u001b[0m\u001b[0;34m(\u001b[0m\u001b[0;34m)\u001b[0m\u001b[0;34m.\u001b[0m\u001b[0mnumpy\u001b[0m\u001b[0;34m(\u001b[0m\u001b[0;34m)\u001b[0m\u001b[0;34m.\u001b[0m\u001b[0mtolist\u001b[0m\u001b[0;34m(\u001b[0m\u001b[0;34m)\u001b[0m\u001b[0;34m)\u001b[0m\u001b[0;34m\u001b[0m\u001b[0;34m\u001b[0m\u001b[0m\n\u001b[1;32m     28\u001b[0m             \u001b[0mlosses\u001b[0m\u001b[0;34m.\u001b[0m\u001b[0mappend\u001b[0m\u001b[0;34m(\u001b[0m\u001b[0mloss\u001b[0m\u001b[0;34m.\u001b[0m\u001b[0mitem\u001b[0m\u001b[0;34m(\u001b[0m\u001b[0;34m)\u001b[0m\u001b[0;34m)\u001b[0m\u001b[0;34m\u001b[0m\u001b[0;34m\u001b[0m\u001b[0m\n\u001b[0;32m---> 29\u001b[0;31m     \u001b[0;32mreturn\u001b[0m \u001b[0mnp\u001b[0m\u001b[0;34m.\u001b[0m\u001b[0mmean\u001b[0m\u001b[0;34m(\u001b[0m\u001b[0mlosses\u001b[0m\u001b[0;34m)\u001b[0m\u001b[0;34m,\u001b[0m\u001b[0mclassification_report\u001b[0m\u001b[0;34m(\u001b[0m\u001b[0mall_labels\u001b[0m\u001b[0;34m,\u001b[0m\u001b[0mall_predictions\u001b[0m\u001b[0;34m)\u001b[0m\u001b[0;34m\u001b[0m\u001b[0;34m\u001b[0m\u001b[0m\n\u001b[0m",
      "\u001b[0;32m~/anaconda3/envs/ire/lib/python3.7/site-packages/sklearn/utils/validation.py\u001b[0m in \u001b[0;36minner_f\u001b[0;34m(*args, **kwargs)\u001b[0m\n\u001b[1;32m     70\u001b[0m                           FutureWarning)\n\u001b[1;32m     71\u001b[0m         \u001b[0mkwargs\u001b[0m\u001b[0;34m.\u001b[0m\u001b[0mupdate\u001b[0m\u001b[0;34m(\u001b[0m\u001b[0;34m{\u001b[0m\u001b[0mk\u001b[0m\u001b[0;34m:\u001b[0m \u001b[0marg\u001b[0m \u001b[0;32mfor\u001b[0m \u001b[0mk\u001b[0m\u001b[0;34m,\u001b[0m \u001b[0marg\u001b[0m \u001b[0;32min\u001b[0m \u001b[0mzip\u001b[0m\u001b[0;34m(\u001b[0m\u001b[0msig\u001b[0m\u001b[0;34m.\u001b[0m\u001b[0mparameters\u001b[0m\u001b[0;34m,\u001b[0m \u001b[0margs\u001b[0m\u001b[0;34m)\u001b[0m\u001b[0;34m}\u001b[0m\u001b[0;34m)\u001b[0m\u001b[0;34m\u001b[0m\u001b[0;34m\u001b[0m\u001b[0m\n\u001b[0;32m---> 72\u001b[0;31m         \u001b[0;32mreturn\u001b[0m \u001b[0mf\u001b[0m\u001b[0;34m(\u001b[0m\u001b[0;34m**\u001b[0m\u001b[0mkwargs\u001b[0m\u001b[0;34m)\u001b[0m\u001b[0;34m\u001b[0m\u001b[0;34m\u001b[0m\u001b[0m\n\u001b[0m\u001b[1;32m     73\u001b[0m     \u001b[0;32mreturn\u001b[0m \u001b[0minner_f\u001b[0m\u001b[0;34m\u001b[0m\u001b[0;34m\u001b[0m\u001b[0m\n\u001b[1;32m     74\u001b[0m \u001b[0;34m\u001b[0m\u001b[0m\n",
      "\u001b[0;32m~/anaconda3/envs/ire/lib/python3.7/site-packages/sklearn/metrics/_classification.py\u001b[0m in \u001b[0;36mclassification_report\u001b[0;34m(y_true, y_pred, labels, target_names, sample_weight, digits, output_dict, zero_division)\u001b[0m\n\u001b[1;32m   1927\u001b[0m     \"\"\"\n\u001b[1;32m   1928\u001b[0m \u001b[0;34m\u001b[0m\u001b[0m\n\u001b[0;32m-> 1929\u001b[0;31m     \u001b[0my_type\u001b[0m\u001b[0;34m,\u001b[0m \u001b[0my_true\u001b[0m\u001b[0;34m,\u001b[0m \u001b[0my_pred\u001b[0m \u001b[0;34m=\u001b[0m \u001b[0m_check_targets\u001b[0m\u001b[0;34m(\u001b[0m\u001b[0my_true\u001b[0m\u001b[0;34m,\u001b[0m \u001b[0my_pred\u001b[0m\u001b[0;34m)\u001b[0m\u001b[0;34m\u001b[0m\u001b[0;34m\u001b[0m\u001b[0m\n\u001b[0m\u001b[1;32m   1930\u001b[0m \u001b[0;34m\u001b[0m\u001b[0m\n\u001b[1;32m   1931\u001b[0m     \u001b[0mlabels_given\u001b[0m \u001b[0;34m=\u001b[0m \u001b[0;32mTrue\u001b[0m\u001b[0;34m\u001b[0m\u001b[0;34m\u001b[0m\u001b[0m\n",
      "\u001b[0;32m~/anaconda3/envs/ire/lib/python3.7/site-packages/sklearn/metrics/_classification.py\u001b[0m in \u001b[0;36m_check_targets\u001b[0;34m(y_true, y_pred)\u001b[0m\n\u001b[1;32m     89\u001b[0m     \u001b[0;32mif\u001b[0m \u001b[0mlen\u001b[0m\u001b[0;34m(\u001b[0m\u001b[0my_type\u001b[0m\u001b[0;34m)\u001b[0m \u001b[0;34m>\u001b[0m \u001b[0;36m1\u001b[0m\u001b[0;34m:\u001b[0m\u001b[0;34m\u001b[0m\u001b[0;34m\u001b[0m\u001b[0m\n\u001b[1;32m     90\u001b[0m         raise ValueError(\"Classification metrics can't handle a mix of {0} \"\n\u001b[0;32m---> 91\u001b[0;31m                          \"and {1} targets\".format(type_true, type_pred))\n\u001b[0m\u001b[1;32m     92\u001b[0m \u001b[0;34m\u001b[0m\u001b[0m\n\u001b[1;32m     93\u001b[0m     \u001b[0;31m# We can't have more than one value on y_type => The set is no more needed\u001b[0m\u001b[0;34m\u001b[0m\u001b[0;34m\u001b[0m\u001b[0;34m\u001b[0m\u001b[0m\n",
      "\u001b[0;31mValueError\u001b[0m: Classification metrics can't handle a mix of binary and continuous targets"
     ]
    }
   ],
   "source": [
    "for epoch in range(NUM_EPOCHS):\n",
    "    training_loss = train(model, optimizer, criterion, loader_train)\n",
    "    val_loss,val_report = validate(model, criterion, loader_val)\n",
    "    \n",
    "    print(f\"Epoch {epoch}/{NUM_EPOCHS} Training Loss : {training_loss} Validation Loss : {val_loss}\")\n",
    "    print(\"Validation Report:\",val_report)"
   ]
  },
  {
   "cell_type": "code",
   "execution_count": null,
   "metadata": {},
   "outputs": [],
   "source": []
  }
 ],
 "metadata": {
  "kernelspec": {
   "display_name": "Python 3",
   "language": "python",
   "name": "python3"
  },
  "language_info": {
   "codemirror_mode": {
    "name": "ipython",
    "version": 3
   },
   "file_extension": ".py",
   "mimetype": "text/x-python",
   "name": "python",
   "nbconvert_exporter": "python",
   "pygments_lexer": "ipython3",
   "version": "3.7.9"
  }
 },
 "nbformat": 4,
 "nbformat_minor": 4
}
