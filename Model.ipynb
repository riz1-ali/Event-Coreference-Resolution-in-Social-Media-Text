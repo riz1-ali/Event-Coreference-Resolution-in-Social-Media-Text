{
 "cells": [
  {
   "cell_type": "code",
   "execution_count": 3,
   "metadata": {},
   "outputs": [],
   "source": [
    "import torch\n",
    "from torch import nn\n",
    "from dataloader import dataset, collate_fn\n",
    "import pickle\n",
    "from torch.utils import data\n",
    "from torch.autograd import Variable"
   ]
  },
  {
   "cell_type": "code",
   "execution_count": 4,
   "metadata": {},
   "outputs": [
    {
     "ename": "TypeError",
     "evalue": "__init__() missing 1 required positional argument: 'trigger_word_pos'",
     "output_type": "error",
     "traceback": [
      "\u001b[0;31m---------------------------------------------------------------------------\u001b[0m",
      "\u001b[0;31mTypeError\u001b[0m                                 Traceback (most recent call last)",
      "\u001b[0;32m<ipython-input-4-8ee038c8e723>\u001b[0m in \u001b[0;36m<module>\u001b[0;34m\u001b[0m\n\u001b[1;32m     15\u001b[0m \u001b[0mdistance_vector_data\u001b[0m \u001b[0;34m=\u001b[0m \u001b[0;34m[\u001b[0m\u001b[0;34m[\u001b[0m\u001b[0mdistance_vectors\u001b[0m\u001b[0;34m[\u001b[0m\u001b[0mi\u001b[0m\u001b[0;34m[\u001b[0m\u001b[0;36m0\u001b[0m\u001b[0;34m]\u001b[0m\u001b[0;34m]\u001b[0m\u001b[0;34m,\u001b[0m\u001b[0mdistance_vectors\u001b[0m\u001b[0;34m[\u001b[0m\u001b[0mi\u001b[0m\u001b[0;34m[\u001b[0m\u001b[0;36m1\u001b[0m\u001b[0;34m]\u001b[0m\u001b[0;34m]\u001b[0m\u001b[0;34m]\u001b[0m \u001b[0;32mfor\u001b[0m \u001b[0mi\u001b[0m \u001b[0;32min\u001b[0m \u001b[0mtweet_pairs\u001b[0m\u001b[0;34m]\u001b[0m\u001b[0;34m\u001b[0m\u001b[0;34m\u001b[0m\u001b[0m\n\u001b[1;32m     16\u001b[0m \u001b[0;34m\u001b[0m\u001b[0m\n\u001b[0;32m---> 17\u001b[0;31m \u001b[0mdataset_\u001b[0m \u001b[0;34m=\u001b[0m \u001b[0mdataset\u001b[0m\u001b[0;34m(\u001b[0m\u001b[0mtweet_pair_data\u001b[0m\u001b[0;34m,\u001b[0m \u001b[0mdistance_vector_data\u001b[0m\u001b[0;34m)\u001b[0m\u001b[0;34m\u001b[0m\u001b[0;34m\u001b[0m\u001b[0m\n\u001b[0m\u001b[1;32m     18\u001b[0m \u001b[0mloader\u001b[0m \u001b[0;34m=\u001b[0m \u001b[0mdata\u001b[0m\u001b[0;34m.\u001b[0m\u001b[0mDataLoader\u001b[0m\u001b[0;34m(\u001b[0m\u001b[0mdataset_\u001b[0m\u001b[0;34m,\u001b[0m \u001b[0mbatch_size\u001b[0m\u001b[0;34m=\u001b[0m\u001b[0;36m128\u001b[0m\u001b[0;34m,\u001b[0m \u001b[0mcollate_fn\u001b[0m\u001b[0;34m=\u001b[0m\u001b[0mcollate_fn\u001b[0m\u001b[0;34m,\u001b[0m \u001b[0mshuffle\u001b[0m\u001b[0;34m=\u001b[0m\u001b[0;32mTrue\u001b[0m\u001b[0;34m)\u001b[0m\u001b[0;34m\u001b[0m\u001b[0;34m\u001b[0m\u001b[0m\n",
      "\u001b[0;31mTypeError\u001b[0m: __init__() missing 1 required positional argument: 'trigger_word_pos'"
     ]
    }
   ],
   "source": [
    "data_ = []\n",
    "file_path = './FinalDataset.csv'\n",
    "with open(file_path, 'r') as f:\n",
    "    for i in f:\n",
    "        j = i.strip('\\n').split('\\t')\n",
    "        data_.append(j[-1].lower())\n",
    "\n",
    "tweet_pairs, distance_vectors = [], []\n",
    "with open('./tweet_pairs.pkl', 'rb') as f:\n",
    "    tweet_pairs = pickle.load(f)\n",
    "with open('./distance_vectors.pkl', 'rb') as f:\n",
    "    distance_vectors = pickle.load(f)\n",
    "    \n",
    "tweet_pair_data = [[data_[i[0]], data_[i[1]]] for i in tweet_pairs]\n",
    "distance_vector_data = [[distance_vectors[i[0]],distance_vectors[i[1]]] for i in tweet_pairs]\n",
    "\n",
    "dataset_ = dataset(tweet_pair_data, distance_vector_data)\n",
    "loader = data.DataLoader(dataset_, batch_size=128, collate_fn=collate_fn, shuffle=True)"
   ]
  },
  {
   "cell_type": "code",
   "execution_count": 9,
   "metadata": {},
   "outputs": [],
   "source": [
    "class Model(nn.Module):\n",
    "    def __init__(self):\n",
    "        super().__init__()\n",
    "        with open(\"./vocab.pkl\", \"rb\") as f:\n",
    "            self.vocab = pickle.load(f)\n",
    "        pre_trained_emb = torch.Tensor(self.vocab.vectors)\n",
    "        self.word_embedding = nn.Embedding.from_pretrained(pre_trained_emb)\n",
    "        self.distance_embedding = nn.Embedding(64, 14)\n",
    "        self.lstm = nn.LSTM(114, 128, batch_first=True, bidirectional=True)\n",
    "    \n",
    "    def init_hidden(self, batch_size):\n",
    "        h, c = (Variable(torch.zeros(1 * 2, batch_size, 128)),\n",
    "                Variable(torch.zeros(1 * 2, batch_size, 128)))\n",
    "        return h, c\n",
    "    \n",
    "    def forward(self, tweet1, tweet2, dist1, dist2):\n",
    "        \n",
    "        batch_size = tweet1.shape[0]\n",
    "        h_0, c_0 = self.init_hidden(batch_size)\n",
    "        \n",
    "        tweet1_embedding = self.word_embedding(tweet1.long())\n",
    "        tweet2_embedding = self.word_embedding(tweet2.long())\n",
    "        dist1_embedding = self.distance_embedding(dist1.long())\n",
    "        dist2_embedding = self.distance_embedding(dist2.long())\n",
    "        \n",
    "        tweet1 = torch.cat([tweet1_embedding, dist1_embedding], dim=2)        \n",
    "        tweet2 = torch.cat([tweet2_embedding, dist2_embedding], dim=2)\n",
    "        \n",
    "        output, (h_n, c_n) = self.lstm(tweet1, (h_0, c_0))\n",
    "        # Output Sentence Level Feature\n",
    "        return tweet1_embedding.shape, tweet2_embedding.shape, dist1_embedding.shape, dist2_embedding.shape            \n"
   ]
  },
  {
   "cell_type": "code",
   "execution_count": 10,
   "metadata": {},
   "outputs": [],
   "source": [
    "model = Model()"
   ]
  },
  {
   "cell_type": "code",
   "execution_count": 11,
   "metadata": {},
   "outputs": [
    {
     "name": "stdout",
     "output_type": "stream",
     "text": [
      "torch.Size([32, 27, 100]) torch.Size([32, 27, 14])\n",
      "torch.Size([32, 27, 100]) torch.Size([32, 27, 14])\n",
      "torch.Size([32, 27, 256])\n"
     ]
    }
   ],
   "source": [
    "for a, b, c, d, e, f in loader:\n",
    "    model(a, b, c, d)\n",
    "    break"
   ]
  },
  {
   "cell_type": "code",
   "execution_count": null,
   "metadata": {},
   "outputs": [],
   "source": []
  }
 ],
 "metadata": {
  "kernelspec": {
   "display_name": "Python 3",
   "language": "python",
   "name": "python3"
  },
  "language_info": {
   "codemirror_mode": {
    "name": "ipython",
    "version": 3
   },
   "file_extension": ".py",
   "mimetype": "text/x-python",
   "name": "python",
   "nbconvert_exporter": "python",
   "pygments_lexer": "ipython3",
   "version": "3.7.9"
  }
 },
 "nbformat": 4,
 "nbformat_minor": 4
}
