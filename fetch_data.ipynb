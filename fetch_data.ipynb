{
 "cells": [
  {
   "cell_type": "code",
   "execution_count": 29,
   "metadata": {},
   "outputs": [],
   "source": [
    "import tweepy\n",
    "from pprint import pprint\n",
    "import jsonpickle\n",
    "from tweepy import Stream\n",
    "from tweepy.streaming import StreamListener\n",
    "import time\n",
    "import numpy as np\n",
    "import pandas as pd\n",
    "from tqdm.notebook import tqdm"
   ]
  },
  {
   "cell_type": "code",
   "execution_count": 30,
   "metadata": {},
   "outputs": [
    {
     "name": "stdout",
     "output_type": "stream",
     "text": [
      "Authentication successfull!!! :D\n"
     ]
    }
   ],
   "source": [
    "auth = tweepy.OAuthHandler('iEk2lB2S9h6qdi9bG2F3OOfVX','LHOn4yNXL5ggl193syNeYaMs2jHGlw7zwDVLFc2pjVWW9XD5LO')\n",
    "auth.set_access_token('1450808706-r0tIB7jGbOeHbz5EiXkUed2HdnTyNqZFGSZINTL','UCkmKWNSK6EYvk5MTT75GJERl7MPwGOMEXAsjqFnhmlBw')\n",
    "\n",
    "api = tweepy.API(auth)\n",
    "if (not api):\n",
    "    print(\"Authentication failed :(\")\n",
    "else:\n",
    "    print(\"Authentication successfull!!! :D\")"
   ]
  },
  {
   "cell_type": "code",
   "execution_count": 31,
   "metadata": {},
   "outputs": [],
   "source": [
    "df = pd.read_csv(\n",
    "    'corpus.txt', \n",
    "    delimiter='\\t', \n",
    "    names=['event_mention_id', 'tweet_id', 'event_instance_id', 'event_mention_trigger', 'timestamp', 'text']\n",
    ")"
   ]
  },
  {
   "cell_type": "code",
   "execution_count": 32,
   "metadata": {},
   "outputs": [],
   "source": [
    "df1 = {\n",
    "    'tweet_id':list(),\n",
    "    'text':list()\n",
    "}\n",
    "tweets = []\n",
    "dataset = []\n",
    "tweet_ids = df['tweet_id'].values.tolist()"
   ]
  },
  {
   "cell_type": "code",
   "execution_count": null,
   "metadata": {},
   "outputs": [],
   "source": [
    "for i in tqdm(range(0, len(tweet_ids), 100)):\n",
    "    statuses = api.statuses_lookup(tweet_ids[i: i + 100])\n",
    "    dataset.append(statuses)\n",
    "    \n",
    "    for idx, status in enumerate(statuses):\n",
    "        tweet = df.iloc[[idx]]\n",
    "        df1['tweet_id'].append(status._json['id'])\n",
    "        df1['text'].append(status._json['text'])\n",
    "    df_prime = pd.DataFrame(df1)\n",
    "    df_prime.to_csv('fetched_tweets.csv')\n",
    "    time.sleep((15 * 60) + 2)"
   ]
  },
  {
   "cell_type": "code",
   "execution_count": 33,
   "metadata": {},
   "outputs": [],
   "source": [
    "df1 = pd.read_csv('fetched_tweets.csv')"
   ]
  },
  {
   "cell_type": "code",
   "execution_count": 34,
   "metadata": {},
   "outputs": [
    {
     "data": {
      "text/html": [
       "<div>\n",
       "<style scoped>\n",
       "    .dataframe tbody tr th:only-of-type {\n",
       "        vertical-align: middle;\n",
       "    }\n",
       "\n",
       "    .dataframe tbody tr th {\n",
       "        vertical-align: top;\n",
       "    }\n",
       "\n",
       "    .dataframe thead th {\n",
       "        text-align: right;\n",
       "    }\n",
       "</style>\n",
       "<table border=\"1\" class=\"dataframe\">\n",
       "  <thead>\n",
       "    <tr style=\"text-align: right;\">\n",
       "      <th></th>\n",
       "      <th>Unnamed: 0</th>\n",
       "      <th>tweet_id</th>\n",
       "      <th>text</th>\n",
       "    </tr>\n",
       "  </thead>\n",
       "  <tbody>\n",
       "    <tr>\n",
       "      <th>0</th>\n",
       "      <td>0</td>\n",
       "      <td>784777229632962560</td>\n",
       "      <td>.@MarthaRaddatz @andersoncooper Ask @realDonal...</td>\n",
       "    </tr>\n",
       "    <tr>\n",
       "      <th>1</th>\n",
       "      <td>1</td>\n",
       "      <td>784762671232983040</td>\n",
       "      <td>Federal Judge Orders Hearing in Donald Trump R...</td>\n",
       "    </tr>\n",
       "    <tr>\n",
       "      <th>2</th>\n",
       "      <td>2</td>\n",
       "      <td>784586044897394688</td>\n",
       "      <td>@sddickerson @FightandDebate @HillaryClinton @...</td>\n",
       "    </tr>\n",
       "    <tr>\n",
       "      <th>3</th>\n",
       "      <td>3</td>\n",
       "      <td>784751011063816192</td>\n",
       "      <td>What leaked emails reveal about Hillary Clinto...</td>\n",
       "    </tr>\n",
       "    <tr>\n",
       "      <th>4</th>\n",
       "      <td>4</td>\n",
       "      <td>784691959445282816</td>\n",
       "      <td>@DrCrane72 @realDonaldTrump he bragged about h...</td>\n",
       "    </tr>\n",
       "    <tr>\n",
       "      <th>...</th>\n",
       "      <td>...</td>\n",
       "      <td>...</td>\n",
       "      <td>...</td>\n",
       "    </tr>\n",
       "    <tr>\n",
       "      <th>2047</th>\n",
       "      <td>2047</td>\n",
       "      <td>790333734553849856</td>\n",
       "      <td>Black Trump Supporters Explain Why They are Vo...</td>\n",
       "    </tr>\n",
       "    <tr>\n",
       "      <th>2048</th>\n",
       "      <td>2048</td>\n",
       "      <td>793631980000862208</td>\n",
       "      <td>Judge Curiel allows Trump University case to c...</td>\n",
       "    </tr>\n",
       "    <tr>\n",
       "      <th>2049</th>\n",
       "      <td>2049</td>\n",
       "      <td>791383816300560385</td>\n",
       "      <td>@ComedyCentral's @TheDailyShow with @Trevornoa...</td>\n",
       "    </tr>\n",
       "    <tr>\n",
       "      <th>2050</th>\n",
       "      <td>2050</td>\n",
       "      <td>793629375371546624</td>\n",
       "      <td>Trump Threatened To Make The 13-Year-Old Girl ...</td>\n",
       "    </tr>\n",
       "    <tr>\n",
       "      <th>2051</th>\n",
       "      <td>2051</td>\n",
       "      <td>791338551346540546</td>\n",
       "      <td>Clinton slams Trump for using undocumented lab...</td>\n",
       "    </tr>\n",
       "  </tbody>\n",
       "</table>\n",
       "<p>2052 rows × 3 columns</p>\n",
       "</div>"
      ],
      "text/plain": [
       "      Unnamed: 0            tweet_id  \\\n",
       "0              0  784777229632962560   \n",
       "1              1  784762671232983040   \n",
       "2              2  784586044897394688   \n",
       "3              3  784751011063816192   \n",
       "4              4  784691959445282816   \n",
       "...          ...                 ...   \n",
       "2047        2047  790333734553849856   \n",
       "2048        2048  793631980000862208   \n",
       "2049        2049  791383816300560385   \n",
       "2050        2050  793629375371546624   \n",
       "2051        2051  791338551346540546   \n",
       "\n",
       "                                                   text  \n",
       "0     .@MarthaRaddatz @andersoncooper Ask @realDonal...  \n",
       "1     Federal Judge Orders Hearing in Donald Trump R...  \n",
       "2     @sddickerson @FightandDebate @HillaryClinton @...  \n",
       "3     What leaked emails reveal about Hillary Clinto...  \n",
       "4     @DrCrane72 @realDonaldTrump he bragged about h...  \n",
       "...                                                 ...  \n",
       "2047  Black Trump Supporters Explain Why They are Vo...  \n",
       "2048  Judge Curiel allows Trump University case to c...  \n",
       "2049  @ComedyCentral's @TheDailyShow with @Trevornoa...  \n",
       "2050  Trump Threatened To Make The 13-Year-Old Girl ...  \n",
       "2051  Clinton slams Trump for using undocumented lab...  \n",
       "\n",
       "[2052 rows x 3 columns]"
      ]
     },
     "execution_count": 34,
     "metadata": {},
     "output_type": "execute_result"
    }
   ],
   "source": [
    "df1"
   ]
  },
  {
   "cell_type": "code",
   "execution_count": 35,
   "metadata": {},
   "outputs": [],
   "source": [
    "def transform(line):\n",
    "    line = line.lower()\n",
    "    line = line.replace(\"'''\", \"'\")\n",
    "    line = line.replace(\"isn't\", \"is not\")\n",
    "    line = line.replace(\"wasn't\", \"was not\")\n",
    "    line = line.replace(\"didn't\", \"did not\")\n",
    "    line = line.replace(\"don't\", \"do not\")\n",
    "    line = line.replace(\"dont\", \"do not\")\n",
    "\n",
    "    line = line.replace(\"doesn't\", \"does not\")\n",
    "    line = line.replace(\"doesnt\", \"does not\")\n",
    "\n",
    "    line = line.replace(\"won't\", \"will not\")\n",
    "    line = line.replace(\"wont\", \"will not\")\n",
    "\n",
    "    line = line.replace(\"wouldn't\", \"would not\")\n",
    "    line = line.replace(\"can't\", \"can not\")\n",
    "    line = line.replace(\"cannot\", \"can not\")\n",
    "\n",
    "    line = line.replace(\"hasn't\", \"has not\")\n",
    "    line = line.replace(\"*questioned\", \"questioned\")\n",
    "    line = line.replace(\"targets\", \"target\")\n",
    "    line = line.replace(\"=\", \"\")\n",
    "        \n",
    "    return line\n"
   ]
  },
  {
   "cell_type": "code",
   "execution_count": 36,
   "metadata": {},
   "outputs": [],
   "source": [
    "import tokenizer as tk\n",
    "import re"
   ]
  },
  {
   "cell_type": "code",
   "execution_count": 37,
   "metadata": {},
   "outputs": [],
   "source": [
    "df1 = pd.DataFrame(df1)\n",
    "def cleanTweet(tweet):\n",
    "    s = \" \".join(tk.tokenize(tweet[:-1]))\n",
    "    x = re.sub(r'[^\\x00-\\xf3]', '', s)\n",
    "    return x\n"
   ]
  },
  {
   "cell_type": "code",
   "execution_count": 38,
   "metadata": {},
   "outputs": [],
   "source": [
    "df_main = {\n",
    "    'event_mention_id': list(), \n",
    "    'tweet_id': list(), \n",
    "    'event_instance_id': list(), \n",
    "    'event_mention_trigger': list(), \n",
    "    'timestamp': list(), \n",
    "    'text':list()\n",
    "}"
   ]
  },
  {
   "cell_type": "code",
   "execution_count": 39,
   "metadata": {},
   "outputs": [],
   "source": [
    "for tweet_id in df1['tweet_id'].values:\n",
    "    tweet = df[tweet_id == df['tweet_id']]\n",
    "    for key in df_main.keys():\n",
    "        if key != 'text':\n",
    "            df_main[key].append(tweet[key].values[0])\n",
    "    df_main['text'].append(df1[df1['tweet_id'] == tweet_id]['text'].values[0])"
   ]
  },
  {
   "cell_type": "code",
   "execution_count": 40,
   "metadata": {},
   "outputs": [],
   "source": [
    "df_main = pd.DataFrame(df_main)"
   ]
  },
  {
   "cell_type": "code",
   "execution_count": null,
   "metadata": {},
   "outputs": [],
   "source": []
  },
  {
   "cell_type": "code",
   "execution_count": 41,
   "metadata": {},
   "outputs": [],
   "source": [
    "df_main['text'] = df_main['text'].apply(transform)\n",
    "df_main['text'] = df_main['text'].apply(cleanTweet)"
   ]
  },
  {
   "cell_type": "code",
   "execution_count": 42,
   "metadata": {},
   "outputs": [
    {
     "data": {
      "text/html": [
       "<div>\n",
       "<style scoped>\n",
       "    .dataframe tbody tr th:only-of-type {\n",
       "        vertical-align: middle;\n",
       "    }\n",
       "\n",
       "    .dataframe tbody tr th {\n",
       "        vertical-align: top;\n",
       "    }\n",
       "\n",
       "    .dataframe thead th {\n",
       "        text-align: right;\n",
       "    }\n",
       "</style>\n",
       "<table border=\"1\" class=\"dataframe\">\n",
       "  <thead>\n",
       "    <tr style=\"text-align: right;\">\n",
       "      <th></th>\n",
       "      <th>event_mention_id</th>\n",
       "      <th>tweet_id</th>\n",
       "      <th>event_instance_id</th>\n",
       "      <th>event_mention_trigger</th>\n",
       "      <th>timestamp</th>\n",
       "      <th>text</th>\n",
       "    </tr>\n",
       "  </thead>\n",
       "  <tbody>\n",
       "    <tr>\n",
       "      <th>0</th>\n",
       "      <td>98</td>\n",
       "      <td>784777229632962560</td>\n",
       "      <td>48</td>\n",
       "      <td>boasting</td>\n",
       "      <td>1475940446657</td>\n",
       "      <td>. @martharaddatz @andersoncooper ask @realdona...</td>\n",
       "    </tr>\n",
       "    <tr>\n",
       "      <th>1</th>\n",
       "      <td>84</td>\n",
       "      <td>784762671232983040</td>\n",
       "      <td>246</td>\n",
       "      <td>orders</td>\n",
       "      <td>1475936975664</td>\n",
       "      <td>federal judge orders hearing in donald trump r...</td>\n",
       "    </tr>\n",
       "    <tr>\n",
       "      <th>2</th>\n",
       "      <td>14</td>\n",
       "      <td>784586044897394688</td>\n",
       "      <td>201</td>\n",
       "      <td>paid</td>\n",
       "      <td>1475894864664</td>\n",
       "      <td>@sddickerson @fightanddebate @hillaryclinton @...</td>\n",
       "    </tr>\n",
       "    <tr>\n",
       "      <th>3</th>\n",
       "      <td>76</td>\n",
       "      <td>784751011063816192</td>\n",
       "      <td>118</td>\n",
       "      <td>reveal</td>\n",
       "      <td>1475934195663</td>\n",
       "      <td>what leaked emails reveal about hillary clinto...</td>\n",
       "    </tr>\n",
       "    <tr>\n",
       "      <th>4</th>\n",
       "      <td>61</td>\n",
       "      <td>784691959445282816</td>\n",
       "      <td>48</td>\n",
       "      <td>bragged</td>\n",
       "      <td>1475920116660</td>\n",
       "      <td>@drcrane72 @realdonaldtrump he bragged about h...</td>\n",
       "    </tr>\n",
       "    <tr>\n",
       "      <th>...</th>\n",
       "      <td>...</td>\n",
       "      <td>...</td>\n",
       "      <td>...</td>\n",
       "      <td>...</td>\n",
       "      <td>...</td>\n",
       "      <td>...</td>\n",
       "    </tr>\n",
       "    <tr>\n",
       "      <th>2047</th>\n",
       "      <td>3149</td>\n",
       "      <td>790333734553849856</td>\n",
       "      <td>1005</td>\n",
       "      <td>explain</td>\n",
       "      <td>1477265220665</td>\n",
       "      <td>black trump supporters explain why they are vo...</td>\n",
       "    </tr>\n",
       "    <tr>\n",
       "      <th>2048</th>\n",
       "      <td>330</td>\n",
       "      <td>793631980000862208</td>\n",
       "      <td>1440</td>\n",
       "      <td>allows</td>\n",
       "      <td>1478051583658</td>\n",
       "      <td>judge curiel allows trump university case to c...</td>\n",
       "    </tr>\n",
       "    <tr>\n",
       "      <th>2049</th>\n",
       "      <td>3158</td>\n",
       "      <td>791383816300560385</td>\n",
       "      <td>999</td>\n",
       "      <td>pledge to sue</td>\n",
       "      <td>1477515579663</td>\n",
       "      <td>@comedycentral 's @thedailyshow with @trevorno...</td>\n",
       "    </tr>\n",
       "    <tr>\n",
       "      <th>2050</th>\n",
       "      <td>327</td>\n",
       "      <td>793629375371546624</td>\n",
       "      <td>1245</td>\n",
       "      <td>threatened to make disappear</td>\n",
       "      <td>1478050962666</td>\n",
       "      <td>trump threatened to make the 13-year-old girl ...</td>\n",
       "    </tr>\n",
       "    <tr>\n",
       "      <th>2051</th>\n",
       "      <td>3156</td>\n",
       "      <td>791338551346540546</td>\n",
       "      <td>885</td>\n",
       "      <td>slams</td>\n",
       "      <td>1477504787657</td>\n",
       "      <td>clinton slams trump for using undocumented lab...</td>\n",
       "    </tr>\n",
       "  </tbody>\n",
       "</table>\n",
       "<p>2052 rows × 6 columns</p>\n",
       "</div>"
      ],
      "text/plain": [
       "      event_mention_id            tweet_id  event_instance_id  \\\n",
       "0                   98  784777229632962560                 48   \n",
       "1                   84  784762671232983040                246   \n",
       "2                   14  784586044897394688                201   \n",
       "3                   76  784751011063816192                118   \n",
       "4                   61  784691959445282816                 48   \n",
       "...                ...                 ...                ...   \n",
       "2047              3149  790333734553849856               1005   \n",
       "2048               330  793631980000862208               1440   \n",
       "2049              3158  791383816300560385                999   \n",
       "2050               327  793629375371546624               1245   \n",
       "2051              3156  791338551346540546                885   \n",
       "\n",
       "             event_mention_trigger      timestamp  \\\n",
       "0                         boasting  1475940446657   \n",
       "1                           orders  1475936975664   \n",
       "2                             paid  1475894864664   \n",
       "3                           reveal  1475934195663   \n",
       "4                          bragged  1475920116660   \n",
       "...                            ...            ...   \n",
       "2047                       explain  1477265220665   \n",
       "2048                        allows  1478051583658   \n",
       "2049                 pledge to sue  1477515579663   \n",
       "2050  threatened to make disappear  1478050962666   \n",
       "2051                         slams  1477504787657   \n",
       "\n",
       "                                                   text  \n",
       "0     . @martharaddatz @andersoncooper ask @realdona...  \n",
       "1     federal judge orders hearing in donald trump r...  \n",
       "2     @sddickerson @fightanddebate @hillaryclinton @...  \n",
       "3     what leaked emails reveal about hillary clinto...  \n",
       "4     @drcrane72 @realdonaldtrump he bragged about h...  \n",
       "...                                                 ...  \n",
       "2047  black trump supporters explain why they are vo...  \n",
       "2048  judge curiel allows trump university case to c...  \n",
       "2049  @comedycentral 's @thedailyshow with @trevorno...  \n",
       "2050  trump threatened to make the 13-year-old girl ...  \n",
       "2051  clinton slams trump for using undocumented lab...  \n",
       "\n",
       "[2052 rows x 6 columns]"
      ]
     },
     "execution_count": 42,
     "metadata": {},
     "output_type": "execute_result"
    }
   ],
   "source": [
    "df_main"
   ]
  },
  {
   "cell_type": "code",
   "execution_count": 10,
   "metadata": {},
   "outputs": [],
   "source": [
    "df_main = pd.read_csv(\n",
    "    'generated_dataset.txt', \n",
    "    sep='\\t', \n",
    "    names=[\n",
    "        'event_mention_id', \n",
    "        'tweet_id', \n",
    "        'event_instance_id', \n",
    "        'event_mention_trigger', \n",
    "        'timestamp', \n",
    "        'text'\n",
    "    ]\n",
    ")"
   ]
  },
  {
   "cell_type": "code",
   "execution_count": 12,
   "metadata": {},
   "outputs": [
    {
     "data": {
      "text/html": [
       "<div>\n",
       "<style scoped>\n",
       "    .dataframe tbody tr th:only-of-type {\n",
       "        vertical-align: middle;\n",
       "    }\n",
       "\n",
       "    .dataframe tbody tr th {\n",
       "        vertical-align: top;\n",
       "    }\n",
       "\n",
       "    .dataframe thead th {\n",
       "        text-align: right;\n",
       "    }\n",
       "</style>\n",
       "<table border=\"1\" class=\"dataframe\">\n",
       "  <thead>\n",
       "    <tr style=\"text-align: right;\">\n",
       "      <th></th>\n",
       "      <th>event_mention_id</th>\n",
       "      <th>tweet_id</th>\n",
       "      <th>event_instance_id</th>\n",
       "      <th>event_mention_trigger</th>\n",
       "      <th>timestamp</th>\n",
       "      <th>text</th>\n",
       "    </tr>\n",
       "  </thead>\n",
       "  <tbody>\n",
       "    <tr>\n",
       "      <th>0</th>\n",
       "      <td>0</td>\n",
       "      <td>784576649627103233</td>\n",
       "      <td>48</td>\n",
       "      <td>bragging</td>\n",
       "      <td>1475892624657</td>\n",
       "      <td>drools over a 12-year old and rapes a 13-year ...</td>\n",
       "    </tr>\n",
       "    <tr>\n",
       "      <th>1</th>\n",
       "      <td>1</td>\n",
       "      <td>784576649627103233</td>\n",
       "      <td>1514</td>\n",
       "      <td>rapes</td>\n",
       "      <td>1475892624657</td>\n",
       "      <td>drools over a 12-year old and rapes a 13-year ...</td>\n",
       "    </tr>\n",
       "    <tr>\n",
       "      <th>2</th>\n",
       "      <td>5</td>\n",
       "      <td>784579912812400641</td>\n",
       "      <td>17</td>\n",
       "      <td>is under attack</td>\n",
       "      <td>1475893402661</td>\n",
       "      <td>@thehill @wsj @washtimes @foxnews trump is und...</td>\n",
       "    </tr>\n",
       "    <tr>\n",
       "      <th>3</th>\n",
       "      <td>6</td>\n",
       "      <td>784579912812400641</td>\n",
       "      <td>1495</td>\n",
       "      <td>helping</td>\n",
       "      <td>1475893402661</td>\n",
       "      <td>@thehill @wsj @washtimes @foxnews trump is und...</td>\n",
       "    </tr>\n",
       "    <tr>\n",
       "      <th>4</th>\n",
       "      <td>8</td>\n",
       "      <td>784581821233242114</td>\n",
       "      <td>53</td>\n",
       "      <td>attack</td>\n",
       "      <td>1475893857664</td>\n",
       "      <td>republicans attack donald trump following emer...</td>\n",
       "    </tr>\n",
       "    <tr>\n",
       "      <th>...</th>\n",
       "      <td>...</td>\n",
       "      <td>...</td>\n",
       "      <td>...</td>\n",
       "      <td>...</td>\n",
       "      <td>...</td>\n",
       "      <td>...</td>\n",
       "    </tr>\n",
       "    <tr>\n",
       "      <th>1768</th>\n",
       "      <td>2807</td>\n",
       "      <td>791598375917486081</td>\n",
       "      <td>1097</td>\n",
       "      <td>does not endorse</td>\n",
       "      <td>1477566734662</td>\n",
       "      <td>boingboing : the yale record does not endorse ...</td>\n",
       "    </tr>\n",
       "    <tr>\n",
       "      <th>1769</th>\n",
       "      <td>2810</td>\n",
       "      <td>791626364486946816</td>\n",
       "      <td>1116</td>\n",
       "      <td>presses</td>\n",
       "      <td>1477573407657</td>\n",
       "      <td>clinton supporter presses trump surrogate on s...</td>\n",
       "    </tr>\n",
       "    <tr>\n",
       "      <th>1770</th>\n",
       "      <td>2811</td>\n",
       "      <td>791628209997680641</td>\n",
       "      <td>1116</td>\n",
       "      <td>presses</td>\n",
       "      <td>1477573847661</td>\n",
       "      <td>clinton supporter presses trump surrogate on s...</td>\n",
       "    </tr>\n",
       "    <tr>\n",
       "      <th>1771</th>\n",
       "      <td>2812</td>\n",
       "      <td>791638100149669888</td>\n",
       "      <td>1097</td>\n",
       "      <td>does not endorse</td>\n",
       "      <td>1477576205657</td>\n",
       "      <td>quite funny semantics here . \" the yale record...</td>\n",
       "    </tr>\n",
       "    <tr>\n",
       "      <th>1772</th>\n",
       "      <td>2813</td>\n",
       "      <td>791642340628627457</td>\n",
       "      <td>1097</td>\n",
       "      <td>did not endorse</td>\n",
       "      <td>1477577216666</td>\n",
       "      <td>this is awesome the editorial board at the yal...</td>\n",
       "    </tr>\n",
       "  </tbody>\n",
       "</table>\n",
       "<p>1773 rows × 6 columns</p>\n",
       "</div>"
      ],
      "text/plain": [
       "      event_mention_id            tweet_id  event_instance_id  \\\n",
       "0                    0  784576649627103233                 48   \n",
       "1                    1  784576649627103233               1514   \n",
       "2                    5  784579912812400641                 17   \n",
       "3                    6  784579912812400641               1495   \n",
       "4                    8  784581821233242114                 53   \n",
       "...                ...                 ...                ...   \n",
       "1768              2807  791598375917486081               1097   \n",
       "1769              2810  791626364486946816               1116   \n",
       "1770              2811  791628209997680641               1116   \n",
       "1771              2812  791638100149669888               1097   \n",
       "1772              2813  791642340628627457               1097   \n",
       "\n",
       "     event_mention_trigger      timestamp  \\\n",
       "0                 bragging  1475892624657   \n",
       "1                    rapes  1475892624657   \n",
       "2          is under attack  1475893402661   \n",
       "3                  helping  1475893402661   \n",
       "4                   attack  1475893857664   \n",
       "...                    ...            ...   \n",
       "1768      does not endorse  1477566734662   \n",
       "1769               presses  1477573407657   \n",
       "1770               presses  1477573847661   \n",
       "1771      does not endorse  1477576205657   \n",
       "1772       did not endorse  1477577216666   \n",
       "\n",
       "                                                   text  \n",
       "0     drools over a 12-year old and rapes a 13-year ...  \n",
       "1     drools over a 12-year old and rapes a 13-year ...  \n",
       "2     @thehill @wsj @washtimes @foxnews trump is und...  \n",
       "3     @thehill @wsj @washtimes @foxnews trump is und...  \n",
       "4     republicans attack donald trump following emer...  \n",
       "...                                                 ...  \n",
       "1768  boingboing : the yale record does not endorse ...  \n",
       "1769  clinton supporter presses trump surrogate on s...  \n",
       "1770  clinton supporter presses trump surrogate on s...  \n",
       "1771  quite funny semantics here . \" the yale record...  \n",
       "1772  this is awesome the editorial board at the yal...  \n",
       "\n",
       "[1773 rows x 6 columns]"
      ]
     },
     "execution_count": 12,
     "metadata": {},
     "output_type": "execute_result"
    }
   ],
   "source": [
    "df_main"
   ]
  },
  {
   "cell_type": "code",
   "execution_count": 43,
   "metadata": {},
   "outputs": [],
   "source": [
    "with open('FinalDataset.csv', 'w') as f:\n",
    "    for idx in df_main.index:\n",
    "        row = df_main.iloc[[idx]]\n",
    "        print(f\"{row['event_mention_id'].values[0]}\\t{row['tweet_id'].values[0]}\\t{row['event_instance_id'].values[0]}\\t{row['event_mention_trigger'].values[0]}\\t{row['timestamp'].values[0]}\\t{row['text'].values[0]}\", file=f)\n"
   ]
  },
  {
   "cell_type": "code",
   "execution_count": null,
   "metadata": {},
   "outputs": [],
   "source": []
  },
  {
   "cell_type": "markdown",
   "metadata": {},
   "source": [
    "# Word2Vec"
   ]
  },
  {
   "cell_type": "code",
   "execution_count": 44,
   "metadata": {},
   "outputs": [],
   "source": [
    "from gensim.models import Word2Vec\n",
    "from gensim.test.utils import common_texts, get_tmpfile"
   ]
  },
  {
   "cell_type": "code",
   "execution_count": 45,
   "metadata": {},
   "outputs": [],
   "source": [
    "class Tweet_Reader:\n",
    "    def __init__(self, df):\n",
    "        self.dataframe = df\n",
    "\n",
    "    def __iter__(self):\n",
    "        for idx in self.dataframe.index:\n",
    "            temp = self.dataframe['text'][idx]\n",
    "            temp = tk.tokenize(temp.lower())\n",
    "            yield temp"
   ]
  },
  {
   "cell_type": "code",
   "execution_count": 46,
   "metadata": {},
   "outputs": [],
   "source": [
    "path = get_tmpfile(\"word2vec.model\")\n",
    "tweets = Tweet_Reader (df_main) # a memory-friendly iterator\n",
    "\n",
    "model = Word2Vec(tweets, size=100, window=5, min_count=1, workers=4, iter=30)\n",
    "model\n",
    "model.save(\"word2vec.model\")"
   ]
  },
  {
   "cell_type": "code",
   "execution_count": 47,
   "metadata": {},
   "outputs": [],
   "source": [
    "from torchtext.data import Field\n",
    "from tqdm.notebook import tqdm\n",
    "import torch\n",
    "from torchtext.vocab import Vocab"
   ]
  },
  {
   "cell_type": "markdown",
   "metadata": {},
   "source": [
    "## Construct Vocab"
   ]
  },
  {
   "cell_type": "code",
   "execution_count": 48,
   "metadata": {},
   "outputs": [],
   "source": [
    "from torchtext.vocab import FastText\n",
    "fast_text = FastText('simple')"
   ]
  },
  {
   "cell_type": "code",
   "execution_count": 49,
   "metadata": {},
   "outputs": [],
   "source": [
    "v = {}\n",
    "for word, vocab_obj in model.wv.vocab.items():\n",
    "    v[word] = vocab_obj.count\n",
    "v['<unk>'] = 0\n",
    "v['<pad>'] = 0"
   ]
  },
  {
   "cell_type": "code",
   "execution_count": 50,
   "metadata": {},
   "outputs": [],
   "source": [
    "vc = Vocab(v, specials=['<pad>'])"
   ]
  },
  {
   "cell_type": "code",
   "execution_count": 52,
   "metadata": {},
   "outputs": [
    {
     "data": {
      "application/vnd.jupyter.widget-view+json": {
       "model_id": "af13a04642f140c2a5826225cd792262",
       "version_major": 2,
       "version_minor": 0
      },
      "text/plain": [
       "HBox(children=(HTML(value=''), FloatProgress(value=0.0, max=4616.0), HTML(value='')))"
      ]
     },
     "metadata": {},
     "output_type": "display_data"
    },
    {
     "name": "stdout",
     "output_type": "stream",
     "text": [
      "\n"
     ]
    }
   ],
   "source": [
    "word2vec_vectors = []\n",
    "for token, idx in tqdm(vc.stoi.items()):\n",
    "    if token in fast_text.stoi.keys():\n",
    "        word2vec_vectors.append(torch.FloatTensor(fast_text[token]))\n",
    "    else:\n",
    "        word2vec_vectors.append(torch.zeros(300))"
   ]
  },
  {
   "cell_type": "code",
   "execution_count": 53,
   "metadata": {},
   "outputs": [],
   "source": [
    "vc.set_vectors(vc.stoi, word2vec_vectors, 300)"
   ]
  },
  {
   "cell_type": "code",
   "execution_count": 54,
   "metadata": {},
   "outputs": [],
   "source": [
    "pre_trained_emb = torch.FloatTensor(vc.vectors)"
   ]
  },
  {
   "cell_type": "code",
   "execution_count": 55,
   "metadata": {},
   "outputs": [],
   "source": [
    "embedding = torch.nn.Embedding.from_pretrained(pre_trained_emb)"
   ]
  },
  {
   "cell_type": "code",
   "execution_count": 56,
   "metadata": {},
   "outputs": [
    {
     "data": {
      "text/plain": [
       "tensor([[0., 0., 0., 0., 0., 0., 0., 0., 0., 0., 0., 0., 0., 0., 0., 0., 0., 0., 0., 0., 0., 0., 0., 0.,\n",
       "         0., 0., 0., 0., 0., 0., 0., 0., 0., 0., 0., 0., 0., 0., 0., 0., 0., 0., 0., 0., 0., 0., 0., 0.,\n",
       "         0., 0., 0., 0., 0., 0., 0., 0., 0., 0., 0., 0., 0., 0., 0., 0., 0., 0., 0., 0., 0., 0., 0., 0.,\n",
       "         0., 0., 0., 0., 0., 0., 0., 0., 0., 0., 0., 0., 0., 0., 0., 0., 0., 0., 0., 0., 0., 0., 0., 0.,\n",
       "         0., 0., 0., 0., 0., 0., 0., 0., 0., 0., 0., 0., 0., 0., 0., 0., 0., 0., 0., 0., 0., 0., 0., 0.,\n",
       "         0., 0., 0., 0., 0., 0., 0., 0., 0., 0., 0., 0., 0., 0., 0., 0., 0., 0., 0., 0., 0., 0., 0., 0.,\n",
       "         0., 0., 0., 0., 0., 0., 0., 0., 0., 0., 0., 0., 0., 0., 0., 0., 0., 0., 0., 0., 0., 0., 0., 0.,\n",
       "         0., 0., 0., 0., 0., 0., 0., 0., 0., 0., 0., 0., 0., 0., 0., 0., 0., 0., 0., 0., 0., 0., 0., 0.,\n",
       "         0., 0., 0., 0., 0., 0., 0., 0., 0., 0., 0., 0., 0., 0., 0., 0., 0., 0., 0., 0., 0., 0., 0., 0.,\n",
       "         0., 0., 0., 0., 0., 0., 0., 0., 0., 0., 0., 0., 0., 0., 0., 0., 0., 0., 0., 0., 0., 0., 0., 0.,\n",
       "         0., 0., 0., 0., 0., 0., 0., 0., 0., 0., 0., 0., 0., 0., 0., 0., 0., 0., 0., 0., 0., 0., 0., 0.,\n",
       "         0., 0., 0., 0., 0., 0., 0., 0., 0., 0., 0., 0., 0., 0., 0., 0., 0., 0., 0., 0., 0., 0., 0., 0.,\n",
       "         0., 0., 0., 0., 0., 0., 0., 0., 0., 0., 0., 0.]])"
      ]
     },
     "execution_count": 56,
     "metadata": {},
     "output_type": "execute_result"
    }
   ],
   "source": [
    "embedding(torch.Tensor([vc.stoi['<pad>']]).long())"
   ]
  },
  {
   "cell_type": "code",
   "execution_count": 57,
   "metadata": {},
   "outputs": [],
   "source": [
    "import pickle"
   ]
  },
  {
   "cell_type": "code",
   "execution_count": 58,
   "metadata": {},
   "outputs": [],
   "source": [
    "with open(\"vocab.pkl\", 'wb') as f:\n",
    "    pickle.dump(vc, f)"
   ]
  },
  {
   "cell_type": "code",
   "execution_count": null,
   "metadata": {},
   "outputs": [],
   "source": []
  },
  {
   "cell_type": "code",
   "execution_count": null,
   "metadata": {},
   "outputs": [],
   "source": []
  }
 ],
 "metadata": {
  "kernelspec": {
   "display_name": "Python 3",
   "language": "python",
   "name": "python3"
  },
  "language_info": {
   "codemirror_mode": {
    "name": "ipython",
    "version": 3
   },
   "file_extension": ".py",
   "mimetype": "text/x-python",
   "name": "python",
   "nbconvert_exporter": "python",
   "pygments_lexer": "ipython3",
   "version": "3.7.9"
  }
 },
 "nbformat": 4,
 "nbformat_minor": 4
}
