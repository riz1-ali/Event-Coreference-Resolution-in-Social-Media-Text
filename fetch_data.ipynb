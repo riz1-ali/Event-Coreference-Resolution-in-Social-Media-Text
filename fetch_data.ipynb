{
 "cells": [
  {
   "cell_type": "code",
   "execution_count": 2,
   "metadata": {},
   "outputs": [],
   "source": [
    "import tweepy\n",
    "from pprint import pprint\n",
    "import jsonpickle\n",
    "from tweepy import Stream\n",
    "from tweepy.streaming import StreamListener\n",
    "import time\n",
    "import numpy as np\n",
    "import pandas as pd\n",
    "from tqdm.notebook import tqdm"
   ]
  },
  {
   "cell_type": "code",
   "execution_count": 3,
   "metadata": {},
   "outputs": [
    {
     "name": "stdout",
     "output_type": "stream",
     "text": [
      "Authentication successfull!!! :D\n"
     ]
    }
   ],
   "source": [
    "auth = tweepy.OAuthHandler('iEk2lB2S9h6qdi9bG2F3OOfVX','LHOn4yNXL5ggl193syNeYaMs2jHGlw7zwDVLFc2pjVWW9XD5LO')\n",
    "auth.set_access_token('1450808706-r0tIB7jGbOeHbz5EiXkUed2HdnTyNqZFGSZINTL','UCkmKWNSK6EYvk5MTT75GJERl7MPwGOMEXAsjqFnhmlBw')\n",
    "\n",
    "api = tweepy.API(auth)\n",
    "if (not api):\n",
    "    print(\"Authentication failed :(\")\n",
    "else:\n",
    "    print(\"Authentication successfull!!! :D\")"
   ]
  },
  {
   "cell_type": "code",
   "execution_count": 4,
   "metadata": {},
   "outputs": [],
   "source": [
    "df = pd.read_csv(\n",
    "    'corpus.txt', \n",
    "    delimiter='\\t', \n",
    "    names=['event_mention_id', 'tweet_id', 'event_instance_id', 'event_mention_trigger', 'timestamp', 'text']\n",
    ")"
   ]
  },
  {
   "cell_type": "code",
   "execution_count": 5,
   "metadata": {},
   "outputs": [],
   "source": [
    "df1 = {\n",
    "    'tweet_id':list(),\n",
    "    'text':list()\n",
    "}\n",
    "tweets = []\n",
    "dataset = []\n",
    "tweet_ids = df['tweet_id'].values.tolist()"
   ]
  },
  {
   "cell_type": "code",
   "execution_count": null,
   "metadata": {},
   "outputs": [],
   "source": [
    "for i in tqdm(range(0, len(tweet_ids), 100)):\n",
    "    statuses = api.statuses_lookup(tweet_ids[i: i + 100])\n",
    "    dataset.append(statuses)\n",
    "    \n",
    "    for idx, status in enumerate(statuses):\n",
    "        tweet = df.iloc[[idx]]\n",
    "        df1['tweet_id'].append(status._json['id'])\n",
    "        df1['text'].append(status._json['text'])\n",
    "    df_prime = pd.DataFrame(df1)\n",
    "    df_prime.to_csv('fetched_tweets.csv')\n",
    "    time.sleep((15 * 60) + 2)"
   ]
  },
  {
   "cell_type": "code",
   "execution_count": null,
   "metadata": {},
   "outputs": [],
   "source": []
  },
  {
   "cell_type": "code",
   "execution_count": 6,
   "metadata": {},
   "outputs": [],
   "source": [
    "def transform(line):\n",
    "    line = line.lower()\n",
    "    line = line.replace(\"'''\", \"'\")\n",
    "    line = line.replace(\"isn't\", \"is not\")\n",
    "    line = line.replace(\"wasn't\", \"was not\")\n",
    "    line = line.replace(\"didn't\", \"did not\")\n",
    "    line = line.replace(\"don't\", \"do not\")\n",
    "    line = line.replace(\"dont\", \"do not\")\n",
    "\n",
    "    line = line.replace(\"doesn't\", \"does not\")\n",
    "    line = line.replace(\"doesnt\", \"does not\")\n",
    "\n",
    "    line = line.replace(\"won't\", \"will not\")\n",
    "    line = line.replace(\"wont\", \"will not\")\n",
    "\n",
    "    line = line.replace(\"wouldn't\", \"would not\")\n",
    "    line = line.replace(\"can't\", \"can not\")\n",
    "    line = line.replace(\"cannot\", \"can not\")\n",
    "\n",
    "    line = line.replace(\"hasn't\", \"has not\")\n",
    "    line = line.replace(\"*questioned\", \"questioned\")\n",
    "    line = line.replace(\"targets\", \"target\")\n",
    "    line = line.replace(\"=\", \"\")\n",
    "        \n",
    "    return line\n"
   ]
  },
  {
   "cell_type": "code",
   "execution_count": 7,
   "metadata": {},
   "outputs": [],
   "source": [
    "import tokenizer as tk\n",
    "import re"
   ]
  },
  {
   "cell_type": "code",
   "execution_count": 8,
   "metadata": {},
   "outputs": [],
   "source": [
    "df1 = pd.DataFrame(df1)\n",
    "def cleanTweet(tweet):\n",
    "    s = \" \".join(tk.tokenize(tweet[:-1]))\n",
    "    x = re.sub(r'[^\\x00-\\xf3]', '', s)\n",
    "    return x\n"
   ]
  },
  {
   "cell_type": "code",
   "execution_count": 9,
   "metadata": {},
   "outputs": [],
   "source": [
    "df_main = {\n",
    "    'event_mention_id': list(), \n",
    "    'tweet_id': list(), \n",
    "    'event_instance_id': list(), \n",
    "    'event_mention_trigger': list(), \n",
    "    'timestamp': list(), \n",
    "    'text':list()\n",
    "}"
   ]
  },
  {
   "cell_type": "code",
   "execution_count": 9,
   "metadata": {},
   "outputs": [],
   "source": [
    "for tweet_id in df1['tweet_id'].values:\n",
    "    tweet = df[tweet_id == df['tweet_id']]\n",
    "    for key in df_main.keys():\n",
    "        if key != 'text':\n",
    "            df_main[key].append(tweet[key].values[0])\n",
    "    df_main['text'].append(df1[df1['tweet_id'] == tweet_id]['text'].values[0])"
   ]
  },
  {
   "cell_type": "code",
   "execution_count": 10,
   "metadata": {},
   "outputs": [],
   "source": [
    "df_main = pd.DataFrame(df_main)"
   ]
  },
  {
   "cell_type": "code",
   "execution_count": 11,
   "metadata": {},
   "outputs": [
    {
     "data": {
      "text/html": [
       "<div>\n",
       "<style scoped>\n",
       "    .dataframe tbody tr th:only-of-type {\n",
       "        vertical-align: middle;\n",
       "    }\n",
       "\n",
       "    .dataframe tbody tr th {\n",
       "        vertical-align: top;\n",
       "    }\n",
       "\n",
       "    .dataframe thead th {\n",
       "        text-align: right;\n",
       "    }\n",
       "</style>\n",
       "<table border=\"1\" class=\"dataframe\">\n",
       "  <thead>\n",
       "    <tr style=\"text-align: right;\">\n",
       "      <th></th>\n",
       "      <th>event_mention_id</th>\n",
       "      <th>tweet_id</th>\n",
       "      <th>event_instance_id</th>\n",
       "      <th>event_mention_trigger</th>\n",
       "      <th>timestamp</th>\n",
       "      <th>text</th>\n",
       "    </tr>\n",
       "  </thead>\n",
       "  <tbody>\n",
       "  </tbody>\n",
       "</table>\n",
       "</div>"
      ],
      "text/plain": [
       "Empty DataFrame\n",
       "Columns: [event_mention_id, tweet_id, event_instance_id, event_mention_trigger, timestamp, text]\n",
       "Index: []"
      ]
     },
     "execution_count": 11,
     "metadata": {},
     "output_type": "execute_result"
    }
   ],
   "source": []
  },
  {
   "cell_type": "code",
   "execution_count": 12,
   "metadata": {},
   "outputs": [],
   "source": [
    "df_main['text'] = df_main['text'].apply(transform)\n",
    "df_main['text'] = df_main['text'].apply(cleanTweet)"
   ]
  },
  {
   "cell_type": "code",
   "execution_count": 16,
   "metadata": {},
   "outputs": [],
   "source": [
    "df_main.to_csv('generated_dataset.txt',sep='\\t')"
   ]
  },
  {
   "cell_type": "code",
   "execution_count": 34,
   "metadata": {},
   "outputs": [],
   "source": [
    "df_main = pd.read_csv(\n",
    "    'generated_dataset.txt', \n",
    "    sep='\\t', \n",
    "    names=[\n",
    "        'event_mention_id', \n",
    "        'tweet_id', \n",
    "        'event_instance_id', \n",
    "        'event_mention_trigger', \n",
    "        'timestamp', \n",
    "        'text'\n",
    "    ]\n",
    ")"
   ]
  },
  {
   "cell_type": "code",
   "execution_count": 35,
   "metadata": {},
   "outputs": [
    {
     "name": "stdout",
     "output_type": "stream",
     "text": [
      "YAY\n",
      "YAY\n",
      "YAY\n",
      "YAY\n"
     ]
    }
   ],
   "source": [
    "for tw in df_main['text'].values:\n",
    "    if \"@po_s\" in tw:\n",
    "        print(\"YAY\")"
   ]
  },
  {
   "cell_type": "markdown",
   "metadata": {},
   "source": [
    "# Word2Vec"
   ]
  },
  {
   "cell_type": "code",
   "execution_count": 36,
   "metadata": {},
   "outputs": [],
   "source": [
    "from gensim.models import Word2Vec\n",
    "from gensim.test.utils import common_texts, get_tmpfile"
   ]
  },
  {
   "cell_type": "code",
   "execution_count": 37,
   "metadata": {},
   "outputs": [],
   "source": [
    "class Tweet_Reader:\n",
    "    def __init__(self, df):\n",
    "        self.dataframe = df\n",
    "\n",
    "    def __iter__(self):\n",
    "        for idx in self.dataframe.index:\n",
    "            temp = self.dataframe['text'][idx]\n",
    "            temp = tk.tokenize(temp.lower())\n",
    "            yield temp"
   ]
  },
  {
   "cell_type": "code",
   "execution_count": 38,
   "metadata": {},
   "outputs": [],
   "source": [
    "path = get_tmpfile(\"word2vec.model\")\n",
    "tweets = Tweet_Reader (df_main) # a memory-friendly iterator\n",
    "\n",
    "model = Word2Vec(tweets, size=100, window=5, min_count=1, workers=4, iter=30)\n",
    "model\n",
    "model.save(\"word2vec.model\")"
   ]
  },
  {
   "cell_type": "code",
   "execution_count": 39,
   "metadata": {},
   "outputs": [],
   "source": [
    "from torchtext.data import Field\n",
    "from tqdm.notebook import tqdm\n",
    "import torch\n",
    "from torchtext.vocab import Vocab"
   ]
  },
  {
   "cell_type": "markdown",
   "metadata": {},
   "source": [
    "## Construct Vocab"
   ]
  },
  {
   "cell_type": "code",
   "execution_count": 40,
   "metadata": {},
   "outputs": [],
   "source": [
    "v = {}\n",
    "for word, vocab_obj in model.wv.vocab.items():\n",
    "    v[word] = vocab_obj.count\n",
    "v['<unk>'] = 0\n",
    "v['<pad>'] = 0"
   ]
  },
  {
   "cell_type": "code",
   "execution_count": 41,
   "metadata": {},
   "outputs": [],
   "source": [
    "vc = Vocab(v, specials=['<pad>'])"
   ]
  },
  {
   "cell_type": "code",
   "execution_count": 42,
   "metadata": {},
   "outputs": [
    {
     "data": {
      "application/vnd.jupyter.widget-view+json": {
       "model_id": "eed6127cb8e8479a963a16692cd5e31d",
       "version_major": 2,
       "version_minor": 0
      },
      "text/plain": [
       "HBox(children=(HTML(value=''), FloatProgress(value=0.0, max=3784.0), HTML(value='')))"
      ]
     },
     "metadata": {},
     "output_type": "display_data"
    },
    {
     "name": "stdout",
     "output_type": "stream",
     "text": [
      "\n"
     ]
    },
    {
     "name": "stderr",
     "output_type": "stream",
     "text": [
      "/home/manan/miniconda3/envs/IRE_Project/lib/python3.7/site-packages/ipykernel_launcher.py:4: DeprecationWarning: Call to deprecated `__getitem__` (Method will be removed in 4.0.0, use self.wv.__getitem__() instead).\n",
      "  after removing the cwd from sys.path.\n"
     ]
    }
   ],
   "source": [
    "word2vec_vectors = []\n",
    "for token, idx in tqdm(vc.stoi.items()):\n",
    "    if token in model.wv.vocab.keys():\n",
    "        word2vec_vectors.append(torch.FloatTensor(model[token]))\n",
    "    else:\n",
    "        word2vec_vectors.append(torch.zeros(100))"
   ]
  },
  {
   "cell_type": "code",
   "execution_count": 43,
   "metadata": {},
   "outputs": [],
   "source": [
    "vc.set_vectors(vc.stoi, word2vec_vectors, 100)"
   ]
  },
  {
   "cell_type": "code",
   "execution_count": 44,
   "metadata": {},
   "outputs": [],
   "source": [
    "pre_trained_emb = torch.FloatTensor(vc.vectors)"
   ]
  },
  {
   "cell_type": "code",
   "execution_count": 45,
   "metadata": {},
   "outputs": [],
   "source": [
    "embedding = torch.nn.Embedding.from_pretrained(pre_trained_emb)"
   ]
  },
  {
   "cell_type": "code",
   "execution_count": 46,
   "metadata": {},
   "outputs": [
    {
     "data": {
      "text/plain": [
       "tensor([[0., 0., 0., 0., 0., 0., 0., 0., 0., 0., 0., 0., 0., 0., 0., 0., 0., 0., 0., 0., 0., 0., 0., 0.,\n",
       "         0., 0., 0., 0., 0., 0., 0., 0., 0., 0., 0., 0., 0., 0., 0., 0., 0., 0., 0., 0., 0., 0., 0., 0.,\n",
       "         0., 0., 0., 0., 0., 0., 0., 0., 0., 0., 0., 0., 0., 0., 0., 0., 0., 0., 0., 0., 0., 0., 0., 0.,\n",
       "         0., 0., 0., 0., 0., 0., 0., 0., 0., 0., 0., 0., 0., 0., 0., 0., 0., 0., 0., 0., 0., 0., 0., 0.,\n",
       "         0., 0., 0., 0.]])"
      ]
     },
     "execution_count": 46,
     "metadata": {},
     "output_type": "execute_result"
    }
   ],
   "source": [
    "embedding(torch.Tensor([vc.stoi['<pad>']]).long())"
   ]
  },
  {
   "cell_type": "code",
   "execution_count": 47,
   "metadata": {},
   "outputs": [],
   "source": [
    "import pickle"
   ]
  },
  {
   "cell_type": "code",
   "execution_count": 48,
   "metadata": {},
   "outputs": [],
   "source": [
    "with open(\"vocab.pkl\", 'wb') as f:\n",
    "    pickle.dump(vc, f)"
   ]
  },
  {
   "cell_type": "code",
   "execution_count": null,
   "metadata": {},
   "outputs": [],
   "source": []
  },
  {
   "cell_type": "code",
   "execution_count": null,
   "metadata": {},
   "outputs": [],
   "source": []
  }
 ],
 "metadata": {
  "kernelspec": {
   "display_name": "Python 3",
   "language": "python",
   "name": "python3"
  },
  "language_info": {
   "codemirror_mode": {
    "name": "ipython",
    "version": 3
   },
   "file_extension": ".py",
   "mimetype": "text/x-python",
   "name": "python",
   "nbconvert_exporter": "python",
   "pygments_lexer": "ipython3",
   "version": "3.7.9"
  }
 },
 "nbformat": 4,
 "nbformat_minor": 4
}
